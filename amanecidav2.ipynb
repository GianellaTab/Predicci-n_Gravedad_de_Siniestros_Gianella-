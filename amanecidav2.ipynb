{
  "nbformat": 4,
  "nbformat_minor": 0,
  "metadata": {
    "colab": {
      "provenance": []
    },
    "kernelspec": {
      "name": "python3",
      "display_name": "Python 3"
    },
    "language_info": {
      "name": "python"
    }
  },
  "cells": [
    {
      "cell_type": "code",
      "execution_count": 18,
      "metadata": {
        "colab": {
          "base_uri": "https://localhost:8080/",
          "height": 726
        },
        "id": "laxpOPczDc4M",
        "outputId": "7d931772-aeeb-40ae-c243-24470eb6de7e"
      },
      "outputs": [
        {
          "output_type": "stream",
          "name": "stdout",
          "text": [
            "Confusion Matrix:\n",
            " [[781   0   0]\n",
            " [ 12 140   0]\n",
            " [ 22   4  12]]\n"
          ]
        },
        {
          "output_type": "display_data",
          "data": {
            "text/plain": [
              "<Figure size 640x480 with 2 Axes>"
            ],
            "image/png": "[encoded data removed]"
          },
          "metadata": {}
        },
        {
          "output_type": "stream",
          "name": "stdout",
          "text": [
            "Classification Report:\n",
            "               precision    recall  f1-score   support\n",
            "\n",
            "           1       0.96      1.00      0.98       781\n",
            "           2       0.97      0.92      0.95       152\n",
            "           3       1.00      0.32      0.48        38\n",
            "\n",
            "    accuracy                           0.96       971\n",
            "   macro avg       0.98      0.75      0.80       971\n",
            "weighted avg       0.96      0.96      0.95       971\n",
            "\n"
          ]
        }
      ],
      "source": [
        "import pandas as pd\n",
        "import matplotlib.pyplot as plt\n",
        "import warnings\n",
        "warnings.filterwarnings(\"ignore\")\n",
        "from sklearn.model_selection import train_test_split\n",
        "from sklearn.preprocessing import LabelEncoder, StandardScaler\n",
        "from sklearn.ensemble import RandomForestClassifier\n",
        "from sklearn.metrics import classification_report, confusion_matrix, ConfusionMatrixDisplay\n",
        "\n",
        "# Cargar el dataset desde un archivo Excel\n",
        "data_path = \"/content/BBDD ONSV SINIESTROS 2021-2022.xlsx\"\n",
        "data = pd.read_excel(data_path)\n",
        "\n",
        "# Selección de columnas que se conocen antes del siniestro\n",
        "pre_event_features = [\n",
        "    'HORA_SINIESTRO', 'TIPO_SINIESTRO', 'DEPARTAMENTO', 'PROVINCIA', 'DISTRITO', 'ZONA',\n",
        "    'TIPO_VIA', 'RED_VIAL', 'CICLOVIA', 'CONDICION_CLIMATICATICA', 'ZONIFICACION',\n",
        "    'CARACTERÍSTICAS_VIA', 'PERFIL_LONGITUDINAL_VÍA', 'SUPERFICIE_CALZADA'\n",
        "]\n",
        "pre_event_data = data[pre_event_features]\n",
        "\n",
        "# Codificación de variables categóricas\n",
        "le = LabelEncoder()\n",
        "for column in pre_event_data.columns:\n",
        "    pre_event_data[column] = le.fit_transform(pre_event_data[column].astype(str))\n",
        "\n",
        "# Creación de una variable objetivo ficticia (esto debe ser adaptado a un criterio real)\n",
        "# Ejemplo simple: Clasificación basada en el tipo de siniestro\n",
        "pre_event_data['severity'] = (pre_event_data['TIPO_SINIESTRO'] % 3) + 1\n",
        "\n",
        "# Preparación de los datos para el modelo\n",
        "X = pre_event_data.drop('severity', axis=1)\n",
        "y = pre_event_data['severity']\n",
        "X_train, X_test, y_train, y_test = train_test_split(X, y, test_size=0.2, random_state=42)\n",
        "\n",
        "# Escalamiento de las características\n",
        "scaler = StandardScaler()\n",
        "X_train_scaled = scaler.fit_transform(X_train)\n",
        "X_test_scaled = scaler.transform(X_test)\n",
        "\n",
        "# Creación y entrenamiento del modelo de Random Forest\n",
        "rf_classifier = RandomForestClassifier(n_estimators=100, random_state=42)\n",
        "rf_classifier.fit(X_train_scaled, y_train)\n",
        "\n",
        "# Predicción y evaluación del modelo\n",
        "y_pred = rf_classifier.predict(X_test_scaled)\n",
        "conf_matrix = confusion_matrix(y_test, y_pred)\n",
        "classif_report = classification_report(y_test, y_pred)\n",
        "\n",
        "# Imprimir los resultados de la evaluación\n",
        "print(\"Confusion Matrix:\\n\", conf_matrix)\n",
        "\n",
        "\n",
        "#matriz de confusión\n",
        "cm_rf = confusion_matrix(y_test, y_pred)\n",
        "disp = ConfusionMatrixDisplay(cm_rf)\n",
        "disp.plot()\n",
        "plt.show()\n",
        "\n",
        "print(\"Classification Report:\\n\", classif_report)\n"
      ]
    },
    {
      "cell_type": "code",
      "source": [
        "from sklearn.ensemble import GradientBoostingClassifier\n",
        "\n",
        "# Configuración y entrenamiento del modelo Gradient Boosting\n",
        "gb_classifier = GradientBoostingClassifier(n_estimators=100, learning_rate=0.1, max_depth=3, random_state=42)\n",
        "gb_classifier.fit(X_train_scaled, y_train)\n",
        "\n",
        "# Predicción y evaluación del modelo\n",
        "y_pred = gb_classifier.predict(X_test_scaled)\n",
        "conf_matrix = confusion_matrix(y_test, y_pred)\n",
        "classif_report = classification_report(y_test, y_pred)\n",
        "\n",
        "# Imprimir los resultados de la evaluación\n",
        "print(\"Confusion Matrix:\\n\", conf_matrix)\n",
        "print(\"Classification Report:\\n\", classif_report)\n",
        "\n"
      ],
      "metadata": {
        "colab": {
          "base_uri": "https://localhost:8080/"
        },
        "id": "6st7rJQxNlDy",
        "outputId": "dfaabd4f-48f6-4147-f247-2e333d58b5d7"
      },
      "execution_count": 19,
      "outputs": [
        {
          "output_type": "stream",
          "name": "stdout",
          "text": [
            "Confusion Matrix:\n",
            " [[781   0   0]\n",
            " [  0 152   0]\n",
            " [  0   0  38]]\n",
            "Classification Report:\n",
            "               precision    recall  f1-score   support\n",
            "\n",
            "           1       1.00      1.00      1.00       781\n",
            "           2       1.00      1.00      1.00       152\n",
            "           3       1.00      1.00      1.00        38\n",
            "\n",
            "    accuracy                           1.00       971\n",
            "   macro avg       1.00      1.00      1.00       971\n",
            "weighted avg       1.00      1.00      1.00       971\n",
            "\n"
          ]
        }
      ]
    },
    {
      "cell_type": "code",
      "source": [
        "import pandas as pd\n",
        "from sklearn.model_selection import train_test_split, cross_val_score\n",
        "from sklearn.preprocessing import LabelEncoder, StandardScaler\n",
        "from sklearn.ensemble import GradientBoostingClassifier\n",
        "\n",
        "# Carga del dataset\n",
        "data_path = \"/content/BBDD ONSV SINIESTROS 2021-2022.xlsx\"  # Asegúrate de que la ruta sea correcta\n",
        "data = pd.read_excel(data_path)\n",
        "\n",
        "# Selección de características que se conocen antes del siniestro\n",
        "features = [\n",
        "    'HORA_SINIESTRO', 'TIPO_SINIESTRO', 'DEPARTAMENTO', 'PROVINCIA', 'DISTRITO', 'ZONA',\n",
        "    'TIPO_VIA', 'RED_VIAL', 'CICLOVIA', 'CONDICION_CLIMATICATICA', 'ZONIFICACION',\n",
        "    'CARACTERÍSTICAS_VIA', 'PERFIL_LONGITUDINAL_VÍA', 'SUPERFICIE_CALZADA'\n",
        "]\n",
        "data = data[features]\n",
        "\n",
        "# Codificación de variables categóricas\n",
        "le = LabelEncoder()\n",
        "for column in data.columns:\n",
        "    data[column] = le.fit_transform(data[column].astype(str))\n",
        "\n",
        "# Creación de una variable objetivo ficticia (esto debería ser ajustado según los datos reales)\n",
        "data['severity'] = (data['TIPO_SINIESTRO'] % 3) + 1\n",
        "\n",
        "# Preparación de los datos para el modelo\n",
        "X = data.drop('severity', axis=1)\n",
        "y = data['severity']\n",
        "\n",
        "# Escalamiento de características\n",
        "scaler = StandardScaler()\n",
        "X_scaled = scaler.fit_transform(X)\n",
        "\n",
        "# Creación del modelo de Gradient Boosting\n",
        "gb_classifier = GradientBoostingClassifier(n_estimators=100, learning_rate=0.1, max_depth=3, random_state=42)\n",
        "\n",
        "# Aplicación de la validación cruzada\n",
        "cv_scores = cross_val_score(gb_classifier, X_scaled, y, cv=5)  # 5-fold cross-validation\n",
        "\n",
        "# Imprimir los resultados de la validación cruzada\n",
        "print(\"Accuracy scores for each fold:\")\n",
        "print(cv_scores)\n",
        "print(\"Mean cross-validation score: {:.2f}\".format(cv_scores.mean()))\n"
      ],
      "metadata": {
        "colab": {
          "base_uri": "https://localhost:8080/"
        },
        "id": "1j0lS03QQBA8",
        "outputId": "f56dfaf2-6658-425d-fa14-721f63fef44f"
      },
      "execution_count": 23,
      "outputs": [
        {
          "output_type": "stream",
          "name": "stdout",
          "text": [
            "Accuracy scores for each fold:\n",
            "[0.99897013 0.99897013 1.         1.         0.99897013]\n",
            "Mean cross-validation score: 1.00\n"
          ]
        }
      ]
    }
  ]
}