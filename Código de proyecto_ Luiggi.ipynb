{
  "nbformat": 4,
  "nbformat_minor": 0,
  "metadata": {
    "colab": {
      "provenance": []
    },
    "kernelspec": {
      "name": "python3",
      "display_name": "Python 3"
    },
    "language_info": {
      "name": "python"
    }
  },
  "cells": [
    {
      "cell_type": "code",
      "execution_count": null,
      "metadata": {
        "id": "OwpUu_by_4Vf"
      },
      "outputs": [],
      "source": [
        "import pandas as pd\n",
        "\n",
        "def clean_dataset(file_path):\n",
        "    data = pd.read_csv(file_path, encoding='ISO-8859-1')\n",
        "    header_row = 2\n",
        "    data.columns = data.iloc[header_row]\n",
        "    data = data.drop(index=range(header_row + 1))\n",
        "    data.columns = [col.strip().lower().replace(' ', '_') for col in data.columns]\n",
        "    data['fecha_siniestro'] = pd.to_datetime(data['fecha_siniestro'], errors='coerce')\n",
        "    data = data.dropna(subset=['código_siniestro', 'fecha_siniestro'])\n",
        "\n",
        "    # Imprimir los nombres de las columnas para verificar\n",
        "    print(\"Columnas en el dataset limpio:\", data.columns.tolist())\n",
        "\n",
        "    # Guardar los datos limpios\n",
        "    data.to_csv('/content/cleaned_siniestros.csv', index=False)\n",
        "\n",
        "    return data\n",
        "\n",
        "# Ruta del archivo original\n",
        "file_path = \"/content/BBDD ONSV - SINIESTROS 2021-2022(SINIESTROS).csv\"\n",
        "clean_dataset(file_path)"
      ]
    },
    {
      "cell_type": "code",
      "source": [
        "import pandas as pd\n",
        "from sklearn.model_selection import train_test_split\n",
        "from sklearn.ensemble import RandomForestClassifier\n",
        "from sklearn.metrics import classification_report\n",
        "\n",
        "def prepare_and_load_data():\n",
        "    # Cargar datos limpios\n",
        "    data = pd.read_csv('/content/cleaned_siniestros.csv')\n",
        "\n",
        "    # Definir la variable de gravedad basándonos en características pre-evento\n",
        "    def calculate_gravity(row):\n",
        "        if row['clase_siniestro'].lower() in ['choque mortal', 'atropello mortal']:\n",
        "            return 2\n",
        "        elif row['clase_siniestro'].lower() in ['choque', 'atropello']:\n",
        "            return 1\n",
        "        else:\n",
        "            return 0\n",
        "\n",
        "    data['gravedad'] = data.apply(calculate_gravity, axis=1)\n",
        "\n",
        "    return data\n",
        "\n",
        "data = prepare_and_load_data()\n",
        "\n",
        "# Preparar datos para el modelo\n",
        "features = data[['hora_siniestro', 'clase_siniestro', 'departamento', 'superficie_de_calzada', '¿existe_señal_vertical?']]\n",
        "features = pd.get_dummies(features)\n",
        "target = data['gravedad']\n",
        "\n",
        "# Dividir los datos\n",
        "X_train, X_test, y_train, y_test = train_test_split(features, target, test_size=0.2, random_state=42)\n",
        "\n",
        "# Modelo Random Forest\n",
        "rf_model = RandomForestClassifier(n_estimators=100, random_state=42)\n",
        "rf_model.fit(X_train, y_train)\n",
        "\n",
        "# Evaluación\n",
        "predictions = rf_model.predict(X_test)\n",
        "print(classification_report(y_test, predictions))\n",
        "\n"
      ],
      "metadata": {
        "colab": {
          "base_uri": "https://localhost:8080/"
        },
        "id": "jMO7CAxiL_Uw",
        "outputId": "bcbba9c7-c242-4f15-c8c2-e2d529bf9d28"
      },
      "execution_count": 29,
      "outputs": [
        {
          "output_type": "stream",
          "name": "stdout",
          "text": [
            "              precision    recall  f1-score   support\n",
            "\n",
            "           0       1.00      1.00      1.00       176\n",
            "           1       1.00      1.00      1.00       208\n",
            "\n",
            "    accuracy                           1.00       384\n",
            "   macro avg       1.00      1.00      1.00       384\n",
            "weighted avg       1.00      1.00      1.00       384\n",
            "\n"
          ]
        }
      ]
    },
    {
      "cell_type": "code",
      "source": [
        "import pandas as pd\n",
        "from sklearn.model_selection import train_test_split, cross_val_score\n",
        "from sklearn.linear_model import LogisticRegression\n",
        "from sklearn.metrics import classification_report\n",
        "\n",
        "def prepare_and_load_data():\n",
        "    # Cargar datos limpios\n",
        "    data = pd.read_csv('/content/cleaned_siniestros.csv')\n",
        "\n",
        "    # Definir la variable de gravedad simplificada ajustada\n",
        "    def calculate_gravity_simple(row):\n",
        "        if row['clase_siniestro'] in ['ATROPELLO', 'VOLCADURA', 'CHOQUE CON OBJETO FIJO']:\n",
        "            return 1  # Casos considerados más graves\n",
        "        else:\n",
        "            return 0  # Casos considerados menos graves\n",
        "\n",
        "    data['gravedad_simple'] = data.apply(calculate_gravity_simple, axis=1)\n",
        "    return data\n",
        "\n",
        "data = prepare_and_load_data()\n",
        "\n",
        "# Preparar datos para el modelo\n",
        "features = data[['hora_siniestro', 'departamento', 'superficie_de_calzada', '¿existe_señal_vertical?']]\n",
        "features = pd.get_dummies(features)\n",
        "target = data['gravedad_simple']\n",
        "\n",
        "# Dividir los datos\n",
        "X_train, X_test, y_train, y_test = train_test_split(features, target, test_size=0.2, random_state=42)\n",
        "\n",
        "# Modelo de regresión logística\n",
        "lr_model = LogisticRegression(max_iter=1000)\n",
        "\n",
        "# Validación cruzada\n",
        "cv_scores = cross_val_score(lr_model, features, target, cv=5)\n",
        "print(\"Cross-validation scores:\", cv_scores)\n",
        "print(\"Mean CV score:\", cv_scores.mean())\n",
        "\n",
        "# Entrenar y evaluar en el conjunto de prueba\n",
        "lr_model.fit(X_train, y_train)\n",
        "predictions = lr_model.predict(X_test)\n",
        "print(classification_report(y_test, predictions))\n"
      ],
      "metadata": {
        "colab": {
          "base_uri": "https://localhost:8080/"
        },
        "id": "buh7iA6pLftQ",
        "outputId": "ebb96f23-2a6b-4828-db28-c886ce2dd0af"
      },
      "execution_count": 30,
      "outputs": [
        {
          "output_type": "stream",
          "name": "stdout",
          "text": [
            "Cross-validation scores: [0.734375   0.72395833 0.74479167 0.73629243 0.75195822]\n",
            "Mean CV score: 0.7382751305483028\n",
            "              precision    recall  f1-score   support\n",
            "\n",
            "           0       0.79      0.94      0.86       301\n",
            "           1       0.29      0.08      0.13        83\n",
            "\n",
            "    accuracy                           0.76       384\n",
            "   macro avg       0.54      0.51      0.50       384\n",
            "weighted avg       0.68      0.76      0.70       384\n",
            "\n"
          ]
        }
      ]
    },
    {
      "cell_type": "code",
      "source": [
        "from sklearn.model_selection import train_test_split\n",
        "from imblearn.over_sampling import SMOTE\n",
        "from sklearn.preprocessing import StandardScaler\n",
        "from sklearn.ensemble import RandomForestClassifier\n",
        "from sklearn.linear_model import LogisticRegression\n",
        "from sklearn.metrics import classification_report\n",
        "import pandas as pd\n",
        "\n",
        "# Carga tus datos\n",
        "data = pd.read_csv('/content/cleaned_siniestros.csv')\n",
        "\n",
        "# Asumiendo que 'features' y 'target' ya están definidos y adecuadamente preparados\n",
        "X_train, X_test, y_train, y_test = train_test_split(features, target, test_size=0.2, random_state=42)\n",
        "\n",
        "# Escalando las características\n",
        "scaler = StandardScaler()\n",
        "X_train_scaled = scaler.fit_transform(X_train)\n",
        "X_test_scaled = scaler.transform(X_test)\n",
        "\n",
        "# Aplicando SMOTE\n",
        "smote = SMOTE(random_state=42)\n",
        "X_train_smote, y_train_smote = smote.fit_resample(X_train_scaled, y_train)\n",
        "\n",
        "# Definir y entrenar el modelo de Random Forest\n",
        "rf_model = RandomForestClassifier(n_estimators=100, random_state=42)\n",
        "rf_model.fit(X_train_smote, y_train_smote)\n",
        "predictions_rf = rf_model.predict(X_test_scaled)\n",
        "\n",
        "# Definir y entrenar el modelo de Regresión Logística\n",
        "lr_model = LogisticRegression(max_iter=1000)\n",
        "lr_model.fit(X_train_smote, y_train_smote)\n",
        "predictions_lr = lr_model.predict(X_test_scaled)\n",
        "\n",
        "# Mostrar reportes de clasificación\n",
        "print(\"Random Forest con SMOTE:\")\n",
        "print(classification_report(y_test, predictions_rf))\n",
        "print(\"Regresión Logística con SMOTE:\")\n",
        "print(classification_report(y_test, predictions_lr))\n",
        "\n"
      ],
      "metadata": {
        "colab": {
          "base_uri": "https://localhost:8080/"
        },
        "id": "xcqugNJqMxDm",
        "outputId": "da64f2a8-aaa2-48b7-a4c1-e325ba006c3e"
      },
      "execution_count": 34,
      "outputs": [
        {
          "output_type": "stream",
          "name": "stdout",
          "text": [
            "Random Forest con SMOTE:\n",
            "              precision    recall  f1-score   support\n",
            "\n",
            "           0       0.80      0.88      0.84       301\n",
            "           1       0.32      0.20      0.25        83\n",
            "\n",
            "    accuracy                           0.73       384\n",
            "   macro avg       0.56      0.54      0.54       384\n",
            "weighted avg       0.70      0.73      0.71       384\n",
            "\n",
            "Regresión Logística con SMOTE:\n",
            "              precision    recall  f1-score   support\n",
            "\n",
            "           0       0.83      0.63      0.72       301\n",
            "           1       0.28      0.52      0.36        83\n",
            "\n",
            "    accuracy                           0.61       384\n",
            "   macro avg       0.55      0.58      0.54       384\n",
            "weighted avg       0.71      0.61      0.64       384\n",
            "\n"
          ]
        }
      ]
    },
    {
      "cell_type": "code",
      "source": [
        "import matplotlib.pyplot as plt\n",
        "import numpy as np\n",
        "\n",
        "# Datos para el gráfico\n",
        "labels = ['RF Inicial', 'LogReg CV', 'RF SMOTE', 'LogReg SMOTE']\n",
        "precision_scores = [1.00, 0.29, 0.32, 0.28]\n",
        "recall_scores = [1.00, 0.08, 0.20, 0.52]\n",
        "\n",
        "x = np.arange(len(labels))  # las ubicaciones de las etiquetas\n",
        "width = 0.35  # ancho de las barras\n",
        "\n",
        "fig, ax = plt.subplots()\n",
        "rects1 = ax.bar(x - width/2, precision_scores, width, label='Precision')\n",
        "rects2 = ax.bar(x + width/2, recall_scores, width, label='Recall')\n",
        "\n",
        "# Añadir texto para etiquetas, título y etiquetas personalizadas en el eje X, etc.\n",
        "ax.set_ylabel('Scores')\n",
        "ax.set_title('Comparación de Precision y Recall por Modelo')\n",
        "ax.set_xticks(x)\n",
        "ax.set_xticklabels(labels)\n",
        "ax.legend()\n",
        "\n",
        "ax.bar_label(rects1, padding=3)\n",
        "ax.bar_label(rects2, padding=3)\n",
        "\n",
        "fig.tight_layout()\n",
        "\n",
        "plt.show()"
      ],
      "metadata": {
        "colab": {
          "base_uri": "https://localhost:8080/",
          "height": 487
        },
        "id": "JTKZsoOqcYIL",
        "outputId": "57672518-170f-4f36-90f2-a562653ad2c1"
      },
      "execution_count": 35,
      "outputs": [
        {
          "output_type": "display_data",
          "data": {
            "text/plain": [
              "<Figure size 640x480 with 1 Axes>"
            ],
            "image/png": "[encoded data removed]"
          },
          "metadata": {}
        }
      ]
    }
  ]
}