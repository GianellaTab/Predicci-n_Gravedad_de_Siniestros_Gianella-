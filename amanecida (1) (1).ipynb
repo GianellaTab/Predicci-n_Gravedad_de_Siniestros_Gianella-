{
  "nbformat": 4,
  "nbformat_minor": 0,
  "metadata": {
    "colab": {
      "provenance": []
    },
    "kernelspec": {
      "name": "python3",
      "display_name": "Python 3"
    },
    "language_info": {
      "name": "python"
    }
  },
  "cells": [
    {
      "cell_type": "code",
      "source": [
        "import pandas as pd\n",
        "from sklearn.preprocessing import LabelEncoder\n",
        "\n",
        "file_path = '/content/BBDD ONSV - SINIESTROS 2021-2022(SINIESTROS).csv'\n",
        "\n",
        "# Definir la función de carga y limpieza de datos\n",
        "def load_and_clean_data(file_path):\n",
        "    data = pd.read_csv(file_path, encoding='ISO-8859-1')\n",
        "    data = data.drop([0, 1])  # Eliminar las filas superiores no necesarias\n",
        "    data.columns = data.iloc[0]  # Establecer la tercera fila como encabezados de columna\n",
        "    data = data.drop([2])  # Eliminar la fila de encabezados duplicada\n",
        "    data.reset_index(drop=True, inplace=True)\n",
        "\n",
        "    # Limpiar y preparar datos\n",
        "    data.drop(['CÓDIGO SINIESTRO', 'FECHA SINIESTRO', 'HORA SINIESTRO', 'COORDENADAS LATITUD', 'COORDENADAS  LONGITUD'], axis=1, inplace=True)\n",
        "    for col in data.columns:\n",
        "        if data[col].dtype == 'object':\n",
        "            data[col] = data[col].fillna('Desconocido')\n",
        "            le = LabelEncoder()\n",
        "            data[col] = le.fit_transform(data[col])\n",
        "        else:\n",
        "            data[col] = data[col].fillna(data[col].mean())\n",
        "\n",
        "    # Definimos 'Gravedad'\n",
        "    data['Gravedad'] = data['CANTIDAD DE FALLECIDOS'] + data['CANTIDAD DE LESIONADOS'] * 0.5\n",
        "    data['Gravedad'] = pd.cut(data['Gravedad'], bins=[0, 1, 3, float('inf')], labels=['leve', 'moderado', 'grave'], right=False)\n",
        "\n",
        "    return data\n",
        "\n",
        "data = load_and_clean_data(file_path)"
      ],
      "metadata": {
        "id": "_Pxijbt_bCvR"
      },
      "execution_count": 24,
      "outputs": []
    },
    {
      "cell_type": "markdown",
      "source": [
        "**1.   ¿De qué forma se utilizan los algoritmos de aprendizaje automático para predecir la gravedad de los accidentes de tráfico y cuáles son las implementaciones más recientes del Random Forest en investigaciones?**"
      ],
      "metadata": {
        "id": "TdT8nDtvmDyx"
      }
    },
    {
      "cell_type": "code",
      "source": [
        "from sklearn.ensemble import RandomForestClassifier\n",
        "from sklearn.model_selection import train_test_split\n",
        "from sklearn.metrics import classification_report, confusion_matrix\n",
        "import seaborn as sns\n",
        "import matplotlib.pyplot as plt\n",
        "\n",
        "# Preparar los datos para el modelo\n",
        "X = data.drop('Gravedad', axis=1)\n",
        "y = data['Gravedad']\n",
        "\n",
        "# División de datos en entrenamiento y prueba\n",
        "X_train, X_test, y_train, y_test = train_test_split(X, y, test_size=0.3, random_state=42)\n",
        "\n",
        "# Inicializar y entrenar el modelo Random Forest\n",
        "rf_model = RandomForestClassifier(n_estimators=100, random_state=42)\n",
        "rf_model.fit(X_train, y_train)\n",
        "\n",
        "# Realización de predicciones y generación del reporte\n",
        "predictions = rf_model.predict(X_test)\n",
        "print(classification_report(y_test, predictions))\n",
        "\n",
        "# Visualización de la matriz de confusión\n",
        "cm = confusion_matrix(y_test, predictions)\n",
        "plt.figure(figsize=(8,6))\n",
        "sns.heatmap(cm, annot=True, fmt=\"d\", cmap='Blues')\n",
        "plt.title(\"Matriz de Confusión para Random Forest\")\n",
        "plt.ylabel('Verdaderos')\n",
        "plt.xlabel('Predicciones')\n",
        "plt.show()\n"
      ],
      "metadata": {
        "colab": {
          "base_uri": "https://localhost:8080/",
          "height": 880
        },
        "id": "W2rUvNOXdNER",
        "outputId": "64735abf-05e7-452d-894a-5592809877d6"
      },
      "execution_count": 31,
      "outputs": [
        {
          "output_type": "stream",
          "name": "stderr",
          "text": [
            "/usr/local/lib/python3.10/dist-packages/sklearn/metrics/_classification.py:1344: UndefinedMetricWarning: Precision and F-score are ill-defined and being set to 0.0 in labels with no predicted samples. Use `zero_division` parameter to control this behavior.\n",
            "  _warn_prf(average, modifier, msg_start, len(result))\n",
            "/usr/local/lib/python3.10/dist-packages/sklearn/metrics/_classification.py:1344: UndefinedMetricWarning: Precision and F-score are ill-defined and being set to 0.0 in labels with no predicted samples. Use `zero_division` parameter to control this behavior.\n",
            "  _warn_prf(average, modifier, msg_start, len(result))\n",
            "/usr/local/lib/python3.10/dist-packages/sklearn/metrics/_classification.py:1344: UndefinedMetricWarning: Precision and F-score are ill-defined and being set to 0.0 in labels with no predicted samples. Use `zero_division` parameter to control this behavior.\n",
            "  _warn_prf(average, modifier, msg_start, len(result))\n"
          ]
        },
        {
          "output_type": "stream",
          "name": "stdout",
          "text": [
            "              precision    recall  f1-score   support\n",
            "\n",
            "       grave       1.00      1.00      1.00       297\n",
            "        leve       1.00      1.00      1.00      1159\n",
            "    moderado       0.00      0.00      0.00         1\n",
            "\n",
            "    accuracy                           1.00      1457\n",
            "   macro avg       0.67      0.67      0.67      1457\n",
            "weighted avg       1.00      1.00      1.00      1457\n",
            "\n"
          ]
        },
        {
          "output_type": "display_data",
          "data": {
            "text/plain": [
              "<Figure size 800x600 with 2 Axes>"
            ],
            "image/png": "[encoded data removed]"
          },
          "metadata": {}
        }
      ]
    },
    {
      "cell_type": "markdown",
      "source": [
        "\n",
        "**2.    ¿Cómo se ha aplicado la regresión lineal en el análisis de accidentes de tráfico y cuáles son sus limitaciones?**\n",
        "\n"
      ],
      "metadata": {
        "id": "CxzpZAh-mWG3"
      }
    },
    {
      "cell_type": "code",
      "source": [
        "import pandas as pd\n",
        "from sklearn.linear_model import LinearRegression\n",
        "from sklearn.model_selection import train_test_split\n",
        "from sklearn.metrics import mean_squared_error, r2_score\n",
        "from sklearn.preprocessing import OneHotEncoder\n",
        "from sklearn.compose import ColumnTransformer\n",
        "\n",
        "# Preparar el codificador para las variables categóricas\n",
        "column_transformer = ColumnTransformer(\n",
        "    [('cat', OneHotEncoder(), ['CONDICIÓN CLIMÁTICA'])],\n",
        "    remainder='passthrough')\n",
        "\n",
        "# Asumiendo que las columnas relevantes ya están codificadas adecuadamente\n",
        "features = ['CANTIDAD DE VEHICULOS DAÑADOS', 'CONDICIÓN CLIMÁTICA']  # Ajustar según los datos\n",
        "target = 'CANTIDAD DE LESIONADOS'\n",
        "\n",
        "# Preparar datos para el modelo\n",
        "X = data[features]\n",
        "y = data[target]\n",
        "\n",
        "# Aplicar codificación OneHot a las variables categóricas\n",
        "X_transformed = column_transformer.fit_transform(X)\n",
        "\n",
        "# Dividir los datos en entrenamiento y prueba\n",
        "X_train, X_test, y_train, y_test = train_test_split(X_transformed, y, test_size=0.3, random_state=42)\n",
        "\n",
        "# Crear y entrenar el modelo de regresión lineal\n",
        "model = LinearRegression()\n",
        "model.fit(X_train, y_train)\n",
        "\n",
        "# Realizar predicciones\n",
        "y_pred = model.predict(X_test)\n",
        "\n",
        "# Evaluar el modelo\n",
        "mse = mean_squared_error(y_test, y_pred)\n",
        "r2 = r2_score(y_test, y_pred)\n",
        "\n",
        "print(f\"Mean Squared Error: {mse}\")\n",
        "print(f\"R^2 Score: {r2}\")\n",
        "\n"
      ],
      "metadata": {
        "colab": {
          "base_uri": "https://localhost:8080/"
        },
        "id": "JbB_3_oWiM0g",
        "outputId": "2e35ee69-c219-4967-e5f3-129974272147"
      },
      "execution_count": 30,
      "outputs": [
        {
          "output_type": "stream",
          "name": "stdout",
          "text": [
            "Mean Squared Error: 36.403382852224105\n",
            "R^2 Score: 0.006130916973192346\n"
          ]
        }
      ]
    }
  ]
}